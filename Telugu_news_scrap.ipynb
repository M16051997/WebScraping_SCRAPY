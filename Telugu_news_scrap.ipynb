{
 "cells": [
  {
   "cell_type": "code",
   "execution_count": 1,
   "metadata": {
    "colab": {},
    "colab_type": "code",
    "id": "hKc-4p7iFyfa"
   },
   "outputs": [],
   "source": [
    "from urllib.request import urlopen\n",
    "from bs4 import BeautifulSoup\n",
    "import json\n",
    "import pandas as pd\n",
    "import numpy as np\n",
    "from datetime import date, datetime, timedelta\n",
    "import os\n",
    "import re"
   ]
  },
  {
   "cell_type": "code",
   "execution_count": 2,
   "metadata": {
    "colab": {},
    "colab_type": "code",
    "id": "YYIfIsSOGLUi"
   },
   "outputs": [],
   "source": [
    "\n",
    "eenadu_archives = 'https://www.eenadu.net/archivesdet/home/'"
   ]
  },
  {
   "cell_type": "code",
   "execution_count": 3,
   "metadata": {
    "colab": {},
    "colab_type": "code",
    "id": "-JFuei1YGPxu"
   },
   "outputs": [],
   "source": [
    "category_links = {\n",
    "    'eenadu_cinema' : 'https://www.eenadu.net/archivespage/cinemamore/', \n",
    "    'eenadu_sports' : 'https://www.eenadu.net/archivespage/sportsmore/', \n",
    "    'eenadu_crime' : 'https://www.eenadu.net/archivespage/crimemore/',\n",
    "    'eenadu_business' : 'https://www.eenadu.net/archivespage/businessmore/',\n",
    "    'eenadu_national' : 'https://www.eenadu.net/archivespage/nationalmore/'}\n",
    "\n",
    "# class=\"article-box-list no-space-t no-space-b\""
   ]
  },
  {
   "cell_type": "code",
   "execution_count": 4,
   "metadata": {
    "colab": {},
    "colab_type": "code",
    "id": "9zwd6ez3GSCa"
   },
   "outputs": [],
   "source": [
    "def readout_buffer(response):\n",
    "    response.text = response.read()\n",
    "    return response.text.decode('utf-8')\n",
    "\n",
    "def get_data_from_url(url):\n",
    "    try:\n",
    "        r = urlopen(url)\n",
    "        doc = readout_buffer(r)\n",
    "    except Exception as e:\n",
    "        # print(e)\n",
    "        doc = \"\"\n",
    "    return doc"
   ]
  },
  {
   "cell_type": "code",
   "execution_count": 5,
   "metadata": {
    "colab": {},
    "colab_type": "code",
    "id": "-fTMHfWlGWkE"
   },
   "outputs": [],
   "source": [
    "def save_json(d, path):\n",
    "    with open(path, 'w') as fp:\n",
    "        json.dump(d, fp)\n",
    "    \n",
    "def read_json(path):\n",
    "    with open(path, 'r') as fp:\n",
    "        return json.load(fp)"
   ]
  },
  {
   "cell_type": "code",
   "execution_count": 6,
   "metadata": {
    "colab": {},
    "colab_type": "code",
    "id": "_zkjnjM5GY-A"
   },
   "outputs": [],
   "source": [
    "# news_urls = dict.fromkeys(category_links.keys(), [])\n",
    "news_urls = {k:[] for k in category_links.keys()}\n",
    "N_days = 365\n",
    "for i in range(0, N_days):\n",
    "    current_date = date.today() - timedelta(days = i)\n",
    "    current_date = current_date.strftime('%d-%m-%Y')\n",
    "    for key in category_links:\n",
    "        current_category_url = category_links[key] + current_date\n",
    "        # open the main link\n",
    "        doc = get_data_from_url(current_category_url)\n",
    "        # parse html\n",
    "        soup = BeautifulSoup(doc, 'html.parser')\n",
    "        # print(soup)\n",
    "        # filter body\n",
    "        div = soup.find('ul', {'class': \"article-box-list no-space-t no-space-b\"})\n",
    "        # print(div)\n",
    "        # find all ahref tags\n",
    "        if div:\n",
    "            anchors = div.find_all('a');\n",
    "            anchor_links = [anchor['href'] for anchor in anchors]\n",
    "            news_urls[key].extend(anchor_links)"
   ]
  },
  {
   "cell_type": "code",
   "execution_count": 7,
   "metadata": {
    "colab": {
     "base_uri": "https://localhost:8080/",
     "height": 102
    },
    "colab_type": "code",
    "id": "3r1DxzQDGgT5",
    "outputId": "f8e12761-f615-4124-b795-149ff006a5b7"
   },
   "outputs": [
    {
     "name": "stdout",
     "output_type": "stream",
     "text": [
      "eenadu_cinema ---> 0\n",
      "eenadu_sports ---> 0\n",
      "eenadu_crime ---> 0\n",
      "eenadu_business ---> 0\n",
      "eenadu_national ---> 0\n"
     ]
    }
   ],
   "source": [
    "\n",
    "for key, values in news_urls.items():\n",
    "    print(key, '--->', len(set(values)))"
   ]
  },
  {
   "cell_type": "code",
   "execution_count": 8,
   "metadata": {
    "colab": {},
    "colab_type": "code",
    "id": "zyarqd1Gcung"
   },
   "outputs": [],
   "source": [
    "save_json(news_urls, \"links.json\")"
   ]
  },
  {
   "cell_type": "code",
   "execution_count": 9,
   "metadata": {
    "colab": {},
    "colab_type": "code",
    "id": "D52ZQNYpcxDC"
   },
   "outputs": [
    {
     "name": "stderr",
     "output_type": "stream",
     "text": [
      "cp: cannot create regular file 'drive/My Drive/nlp-telugu/': No such file or directory\n"
     ]
    }
   ],
   "source": [
    "!cp -r 'links.json' 'drive/My Drive/nlp-telugu/'"
   ]
  },
  {
   "cell_type": "code",
   "execution_count": 10,
   "metadata": {
    "colab": {
     "base_uri": "https://localhost:8080/",
     "height": 122
    },
    "colab_type": "code",
    "id": "8zd3OtR0c6e8",
    "outputId": "aa27ba2a-3599-4f1e-a18b-ac4f8e7f15e8"
   },
   "outputs": [
    {
     "name": "stdout",
     "output_type": "stream",
     "text": [
      "Collecting selectolax\n",
      "  Downloading selectolax-0.3.11-cp39-cp39-win_amd64.whl (1.9 MB)\n",
      "     ---------------------------------------- 1.9/1.9 MB 3.8 MB/s eta 0:00:00\n",
      "Requirement already satisfied: Cython>=0.29.23 in d:\\anaconda\\envs\\murthy\\lib\\site-packages (from selectolax) (0.29.32)\n",
      "Installing collected packages: selectolax\n",
      "Successfully installed selectolax-0.3.11\n"
     ]
    }
   ],
   "source": [
    "!pip install selectolax\n",
    "from selectolax.parser import HTMLParser\n",
    "def get_details(url):\n",
    "    doc = get_data_from_url(url)\n",
    "    try: \n",
    "        html_doc = HTMLParser(doc)\n",
    "        t = '\\n '.join(n.text() for n in html_doc.css(\"title\"))\n",
    "        a = '\\n '.join(n.text() for n in html_doc.css(\"span.text-justify\"))\n",
    "    except:\n",
    "        t = \"\"\n",
    "        a = \"\"\n",
    "    return [t, a]"
   ]
  },
  {
   "cell_type": "code",
   "execution_count": null,
   "metadata": {},
   "outputs": [],
   "source": [
    "import json\n",
    "\n",
    "with open('drive/My Drive/nlp-telugu/links.json') as f:\n",
    "  news_urls = json.load(f)\n"
   ]
  },
  {
   "cell_type": "code",
   "execution_count": null,
   "metadata": {
    "colab": {
     "base_uri": "https://localhost:8080/",
     "height": 119
    },
    "colab_type": "code",
    "id": "LRXdIiGEdDj0",
    "outputId": "26540059-e738-4a94-c84a-622ae910c825"
   },
   "outputs": [
    {
     "name": "stdout",
     "output_type": "stream",
     "text": [
      "parallelising the task on 2 cpu cores\n",
      "Done for eenadu_cinema (3122) ---> 0:23:47.677009\n",
      "Done for eenadu_sports (8815) ---> 0:58:31.849614\n",
      "Done for eenadu_crime (11873) ---> 1:20:23.420670\n",
      "Done for eenadu_business (15931) ---> 1:49:35.672724\n",
      "Done for eenadu_national (20527) ---> 2:20:27.336229\n"
     ]
    }
   ],
   "source": [
    "\n",
    "from datetime import datetime\n",
    "import multiprocessing as mp\n",
    "import multiprocessing.dummy as mpd\n",
    "import time\n",
    "\n",
    "start = datetime.now()\n",
    "cpu_cores = mp.cpu_count()\n",
    "print('parallelising the task on {} cpu cores'.format(cpu_cores))\n",
    "\n",
    "count = 0\n",
    "# divide pool\n",
    "pool = mpd.Pool(processes=cpu_cores)\n",
    "\n",
    "# to store (title, article, category)\n",
    "data_rows = []\n",
    "\n",
    "# iter over\n",
    "for key, url_list in news_urls.items(): \n",
    "    for row in pool.imap(get_details, url_list):\n",
    "        row.append(key)\n",
    "        data_rows.append(row)\n",
    "    # print/save\n",
    "    print(\"Done for {} ({}) ---> {}\".format(key, len(data_rows), datetime.now() - start))\n",
    "# close the pool\n",
    "pool.close()\n",
    "pool.join()"
   ]
  },
  {
   "cell_type": "code",
   "execution_count": null,
   "metadata": {
    "colab": {
     "base_uri": "https://localhost:8080/",
     "height": 34
    },
    "colab_type": "code",
    "id": "6RimOGiA8fYf",
    "outputId": "25cc0478-c529-4024-f17a-83c7ff09d00d"
   },
   "outputs": [
    {
     "data": {
      "text/plain": [
       "((20527, 3), Index(['title', 'text', 'category'], dtype='object'))"
      ]
     },
     "execution_count": 9,
     "metadata": {
      "tags": []
     },
     "output_type": "execute_result"
    }
   ],
   "source": [
    "df = pd.DataFrame(data_rows, columns = ['title', 'text', 'category'])\n",
    "df.to_parquet('telugu_news_dataset.parquet', index = None)\n",
    "df.shape, df.columns"
   ]
  },
  {
   "cell_type": "code",
   "execution_count": null,
   "metadata": {
    "colab": {
     "base_uri": "https://localhost:8080/",
     "height": 119
    },
    "colab_type": "code",
    "id": "YLfYksUveWyt",
    "outputId": "e312bbcd-4b1b-4585-e3c9-25788e09dd1d"
   },
   "outputs": [
    {
     "data": {
      "text/plain": [
       "eenadu_sports      5693\n",
       "eenadu_national    4596\n",
       "eenadu_business    4058\n",
       "eenadu_cinema      3122\n",
       "eenadu_crime       3058\n",
       "Name: category, dtype: int64"
      ]
     },
     "execution_count": 10,
     "metadata": {
      "tags": []
     },
     "output_type": "execute_result"
    }
   ],
   "source": [
    "df['category'].value_counts()"
   ]
  },
  {
   "cell_type": "code",
   "execution_count": null,
   "metadata": {
    "colab": {},
    "colab_type": "code",
    "id": "EcmfUHpX8w7a"
   },
   "outputs": [],
   "source": [
    "!cp -r 'telugu_news_dataset.parquet' 'drive/My Drive/nlp-telugu/'"
   ]
  },
  {
   "cell_type": "code",
   "execution_count": null,
   "metadata": {
    "colab": {
     "base_uri": "https://localhost:8080/",
     "height": 204
    },
    "colab_type": "code",
    "id": "bMRNL0lN864W",
    "outputId": "b1696f35-f843-4dd4-dd44-17c6c5dfe4f6"
   },
   "outputs": [
    {
     "data": {
      "text/html": [
       "<div>\n",
       "<style scoped>\n",
       "    .dataframe tbody tr th:only-of-type {\n",
       "        vertical-align: middle;\n",
       "    }\n",
       "\n",
       "    .dataframe tbody tr th {\n",
       "        vertical-align: top;\n",
       "    }\n",
       "\n",
       "    .dataframe thead th {\n",
       "        text-align: right;\n",
       "    }\n",
       "</style>\n",
       "<table border=\"1\" class=\"dataframe\">\n",
       "  <thead>\n",
       "    <tr style=\"text-align: right;\">\n",
       "      <th></th>\n",
       "      <th>title</th>\n",
       "      <th>text</th>\n",
       "      <th>category</th>\n",
       "    </tr>\n",
       "  </thead>\n",
       "  <tbody>\n",
       "    <tr>\n",
       "      <th>0</th>\n",
       "      <td>పెళ్లి వార్తలను ఖండించిన కీర్తి సురేష్‌</td>\n",
       "      <td>\\n                \\n\\nచెన్నై : తనకు త్వరలో పెళ...</td>\n",
       "      <td>eenadu_cinema</td>\n",
       "    </tr>\n",
       "    <tr>\n",
       "      <th>1</th>\n",
       "      <td>ప్రభాస్‌ గురించి ఆ హీరోయిన్‌తో ఫ్యాన్స్‌ చర్చ</td>\n",
       "      <td>\\n                \\n\\nహైదరాబాద్‌: అభిమాన స్టార...</td>\n",
       "      <td>eenadu_cinema</td>\n",
       "    </tr>\n",
       "    <tr>\n",
       "      <th>2</th>\n",
       "      <td>250 మురికివాడ కుటుంబాలకు రకుల్‌ సాయం</td>\n",
       "      <td>\\n                లాక్‌డౌన్‌ ముగిసేంత వరకు ఫుడ...</td>\n",
       "      <td>eenadu_cinema</td>\n",
       "    </tr>\n",
       "    <tr>\n",
       "      <th>3</th>\n",
       "      <td>యువతలో మరో కోణాన్ని చూశా</td>\n",
       "      <td>\\n                \\n\\nయుద్ధం జరుగుతున్నప్పుడు ...</td>\n",
       "      <td>eenadu_cinema</td>\n",
       "    </tr>\n",
       "    <tr>\n",
       "      <th>4</th>\n",
       "      <td>మోదీ అభినందనలు</td>\n",
       "      <td>\\n                \\n\\nకరోనాపై పాటతో సందేశం ఇచ్...</td>\n",
       "      <td>eenadu_cinema</td>\n",
       "    </tr>\n",
       "  </tbody>\n",
       "</table>\n",
       "</div>"
      ],
      "text/plain": [
       "                                           title  ...       category\n",
       "0        పెళ్లి వార్తలను ఖండించిన కీర్తి సురేష్‌  ...  eenadu_cinema\n",
       "1  ప్రభాస్‌ గురించి ఆ హీరోయిన్‌తో ఫ్యాన్స్‌ చర్చ  ...  eenadu_cinema\n",
       "2           250 మురికివాడ కుటుంబాలకు రకుల్‌ సాయం  ...  eenadu_cinema\n",
       "3                       యువతలో మరో కోణాన్ని చూశా  ...  eenadu_cinema\n",
       "4                                 మోదీ అభినందనలు  ...  eenadu_cinema\n",
       "\n",
       "[5 rows x 3 columns]"
      ]
     },
     "execution_count": 12,
     "metadata": {
      "tags": []
     },
     "output_type": "execute_result"
    }
   ],
   "source": [
    "df.head()"
   ]
  },
  {
   "cell_type": "code",
   "execution_count": null,
   "metadata": {
    "colab": {},
    "colab_type": "code",
    "id": "pa3yriA48_E-"
   },
   "outputs": [],
   "source": []
  }
 ],
 "metadata": {
  "accelerator": "GPU",
  "colab": {
   "name": "telugu-news.ipynb",
   "provenance": []
  },
  "kernelspec": {
   "display_name": "Python 3 (ipykernel)",
   "language": "python",
   "name": "python3"
  },
  "language_info": {
   "codemirror_mode": {
    "name": "ipython",
    "version": 3
   },
   "file_extension": ".py",
   "mimetype": "text/x-python",
   "name": "python",
   "nbconvert_exporter": "python",
   "pygments_lexer": "ipython3",
   "version": "3.9.13"
  },
  "vscode": {
   "interpreter": {
    "hash": "50253ca41782d5a478812580985f3508ea3ea003bf562946ec1f5bc027dfa00e"
   }
  }
 },
 "nbformat": 4,
 "nbformat_minor": 2
}
