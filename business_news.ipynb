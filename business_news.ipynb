{
 "cells": [
  {
   "cell_type": "code",
   "execution_count": null,
   "metadata": {},
   "outputs": [],
   "source": [
    "import bs4\n",
    "import requests\n",
    "from bs4 import BeautifulSoup as bs\n",
    "from tqdm import tqdm\n",
    "import pandas as pd\n",
    "from random import randint\n",
    "from time import sleep\n",
    "import numpy as np"
   ]
  },
  {
   "cell_type": "code",
   "execution_count": 6,
   "metadata": {},
   "outputs": [],
   "source": [
    "URL= \"https://www.hindutamil.in/news/business/1\""
   ]
  },
  {
   "cell_type": "code",
   "execution_count": 7,
   "metadata": {},
   "outputs": [],
   "source": [
    "import numpy as np\n",
    "\n",
    "pages = np.arange(1, 600, 1)\n",
    "data_hindu = []\n",
    "\n",
    "for page in pages:\n",
    "    req= requests.get(URL+str(page)+'/')\n",
    "    soup = bs(req.text, 'html.parser')\n",
    "    \n",
    "    titles = soup.find_all('div',attrs = {'class','card-body px-0 height100px'})\n",
    "    \n",
    "    sleep(randint(2,10)) \n",
    "    for ta in titles:\n",
    "        name = ta.a.p.text # text present in div.a.p.text\n",
    "        data_hindu.append(name)  \n",
    "        \n",
    "       "
   ]
  },
  {
   "cell_type": "code",
   "execution_count": 8,
   "metadata": {},
   "outputs": [
    {
     "data": {
      "text/plain": [
       "(9584, 1)"
      ]
     },
     "execution_count": 8,
     "metadata": {},
     "output_type": "execute_result"
    }
   ],
   "source": [
    "data = pd.DataFrame(data_hindu)\n",
    "data.shape"
   ]
  },
  {
   "cell_type": "code",
   "execution_count": 9,
   "metadata": {},
   "outputs": [
    {
     "data": {
      "text/html": [
       "<div>\n",
       "<style scoped>\n",
       "    .dataframe tbody tr th:only-of-type {\n",
       "        vertical-align: middle;\n",
       "    }\n",
       "\n",
       "    .dataframe tbody tr th {\n",
       "        vertical-align: top;\n",
       "    }\n",
       "\n",
       "    .dataframe thead th {\n",
       "        text-align: right;\n",
       "    }\n",
       "</style>\n",
       "<table border=\"1\" class=\"dataframe\">\n",
       "  <thead>\n",
       "    <tr style=\"text-align: right;\">\n",
       "      <th></th>\n",
       "      <th>0</th>\n",
       "      <th>Category</th>\n",
       "    </tr>\n",
       "  </thead>\n",
       "  <tbody>\n",
       "    <tr>\n",
       "      <th>9579</th>\n",
       "      <td>தீபாவளி | எட்டயபுரம் சந்தையில் ரூ.6 கோடிக்கு ...</td>\n",
       "      <td>Business</td>\n",
       "    </tr>\n",
       "    <tr>\n",
       "      <th>9580</th>\n",
       "      <td>கடலில் மிதக்கும் காற்றாலைகளை அமைக்கிறது என்எல...</td>\n",
       "      <td>Business</td>\n",
       "    </tr>\n",
       "    <tr>\n",
       "      <th>9581</th>\n",
       "      <td>தீபாவளி | தமிழகம் முழுவதும் 1,000 ஸ்பின்னிங் ...</td>\n",
       "      <td>Business</td>\n",
       "    </tr>\n",
       "    <tr>\n",
       "      <th>9582</th>\n",
       "      <td>ஸ்மார்ட் போனுக்கு ஸ்மார்ட் டிவி இலவசம்: பிரிய...</td>\n",
       "      <td>Business</td>\n",
       "    </tr>\n",
       "    <tr>\n",
       "      <th>9583</th>\n",
       "      <td>இங்கிலாந்து பொருளாதார வீழ்ச்சிக்கு வித்திட்டவ...</td>\n",
       "      <td>Business</td>\n",
       "    </tr>\n",
       "  </tbody>\n",
       "</table>\n",
       "</div>"
      ],
      "text/plain": [
       "                                                      0  Category\n",
       "9579   தீபாவளி | எட்டயபுரம் சந்தையில் ரூ.6 கோடிக்கு ...  Business\n",
       "9580   கடலில் மிதக்கும் காற்றாலைகளை அமைக்கிறது என்எல...  Business\n",
       "9581   தீபாவளி | தமிழகம் முழுவதும் 1,000 ஸ்பின்னிங் ...  Business\n",
       "9582   ஸ்மார்ட் போனுக்கு ஸ்மார்ட் டிவி இலவசம்: பிரிய...  Business\n",
       "9583   இங்கிலாந்து பொருளாதார வீழ்ச்சிக்கு வித்திட்டவ...  Business"
      ]
     },
     "execution_count": 9,
     "metadata": {},
     "output_type": "execute_result"
    }
   ],
   "source": [
    "data.rename(columns={'State_news':'News'}, inplace=True)\n",
    "data['Category']= \"Business\"\n",
    "data.tail()"
   ]
  },
  {
   "cell_type": "code",
   "execution_count": 10,
   "metadata": {},
   "outputs": [],
   "source": [
    "# writing to Excel\n",
    "Fb_post = pd.ExcelWriter('Business.xlsx')\n",
    "data.to_excel(Fb_post)\n",
    "# save the excel\n",
    "Fb_post.save()"
   ]
  },
  {
   "cell_type": "code",
   "execution_count": null,
   "metadata": {},
   "outputs": [],
   "source": []
  }
 ],
 "metadata": {
  "kernelspec": {
   "display_name": "Python 3 (ipykernel)",
   "language": "python",
   "name": "python3"
  },
  "language_info": {
   "codemirror_mode": {
    "name": "ipython",
    "version": 3
   },
   "file_extension": ".py",
   "mimetype": "text/x-python",
   "name": "python",
   "nbconvert_exporter": "python",
   "pygments_lexer": "ipython3",
   "version": "3.9.12"
  },
  "vscode": {
   "interpreter": {
    "hash": "50253ca41782d5a478812580985f3508ea3ea003bf562946ec1f5bc027dfa00e"
   }
  }
 },
 "nbformat": 4,
 "nbformat_minor": 2
}
